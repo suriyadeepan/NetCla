{
 "cells": [
  {
   "cell_type": "markdown",
   "metadata": {},
   "source": [
    "## Imports"
   ]
  },
  {
   "cell_type": "code",
   "execution_count": 39,
   "metadata": {
    "collapsed": false
   },
   "outputs": [],
   "source": [
    "import pandas as pd\n",
    "import tensorflow as tf\n",
    "import numpy as np"
   ]
  },
  {
   "cell_type": "markdown",
   "metadata": {},
   "source": [
    "## Read Data from csv"
   ]
  },
  {
   "cell_type": "code",
   "execution_count": 6,
   "metadata": {
    "collapsed": true
   },
   "outputs": [],
   "source": [
    "dataX = pd.read_csv('../data/train.csv',delimiter='\\t')\n",
    "validX = pd.read_csv('../data/valid.csv',delimiter='\\t')"
   ]
  },
  {
   "cell_type": "code",
   "execution_count": 14,
   "metadata": {
    "collapsed": false
   },
   "outputs": [],
   "source": [
    "dataY = pd.read_csv('../data/train_target.csv',header=None)\n",
    "validY = pd.read_csv('../data/valid_target.csv',header=None)"
   ]
  },
  {
   "cell_type": "code",
   "execution_count": 7,
   "metadata": {
    "collapsed": false
   },
   "outputs": [
    {
     "data": {
      "text/html": [
       "<div>\n",
       "<table border=\"1\" class=\"dataframe\">\n",
       "  <thead>\n",
       "    <tr style=\"text-align: right;\">\n",
       "      <th></th>\n",
       "      <th>cli_pl_header</th>\n",
       "      <th>cli_pl_body</th>\n",
       "      <th>cli_cont_len</th>\n",
       "      <th>srv_pl_header</th>\n",
       "      <th>srv_pl_body</th>\n",
       "      <th>srv_cont_len</th>\n",
       "      <th>aggregated_sessions</th>\n",
       "      <th>bytes</th>\n",
       "      <th>net_samples</th>\n",
       "      <th>tcp_frag</th>\n",
       "      <th>...</th>\n",
       "      <th>application_latency</th>\n",
       "      <th>cli_tx_time</th>\n",
       "      <th>load_time</th>\n",
       "      <th>server_latency</th>\n",
       "      <th>proxy</th>\n",
       "      <th>sp_healthscore</th>\n",
       "      <th>sp_req_duration</th>\n",
       "      <th>sp_is_lat</th>\n",
       "      <th>sp_error</th>\n",
       "      <th>throughput</th>\n",
       "    </tr>\n",
       "  </thead>\n",
       "  <tbody>\n",
       "    <tr>\n",
       "      <th>0</th>\n",
       "      <td>667</td>\n",
       "      <td>0</td>\n",
       "      <td>0</td>\n",
       "      <td>336</td>\n",
       "      <td>143151</td>\n",
       "      <td>143151</td>\n",
       "      <td>1</td>\n",
       "      <td>155494</td>\n",
       "      <td>1</td>\n",
       "      <td>0</td>\n",
       "      <td>...</td>\n",
       "      <td>2.195</td>\n",
       "      <td>0.0</td>\n",
       "      <td>766.522</td>\n",
       "      <td>1.097</td>\n",
       "      <td>0</td>\n",
       "      <td>0</td>\n",
       "      <td>0</td>\n",
       "      <td>0</td>\n",
       "      <td>0</td>\n",
       "      <td>202.856539</td>\n",
       "    </tr>\n",
       "    <tr>\n",
       "      <th>1</th>\n",
       "      <td>667</td>\n",
       "      <td>0</td>\n",
       "      <td>0</td>\n",
       "      <td>336</td>\n",
       "      <td>143151</td>\n",
       "      <td>143151</td>\n",
       "      <td>1</td>\n",
       "      <td>310988</td>\n",
       "      <td>1</td>\n",
       "      <td>0</td>\n",
       "      <td>...</td>\n",
       "      <td>2.988</td>\n",
       "      <td>0.0</td>\n",
       "      <td>766.496</td>\n",
       "      <td>1.494</td>\n",
       "      <td>0</td>\n",
       "      <td>0</td>\n",
       "      <td>0</td>\n",
       "      <td>0</td>\n",
       "      <td>0</td>\n",
       "      <td>405.726840</td>\n",
       "    </tr>\n",
       "    <tr>\n",
       "      <th>2</th>\n",
       "      <td>667</td>\n",
       "      <td>0</td>\n",
       "      <td>0</td>\n",
       "      <td>336</td>\n",
       "      <td>143151</td>\n",
       "      <td>143151</td>\n",
       "      <td>1</td>\n",
       "      <td>310988</td>\n",
       "      <td>1</td>\n",
       "      <td>0</td>\n",
       "      <td>...</td>\n",
       "      <td>2.209</td>\n",
       "      <td>0.0</td>\n",
       "      <td>766.544</td>\n",
       "      <td>1.104</td>\n",
       "      <td>0</td>\n",
       "      <td>0</td>\n",
       "      <td>0</td>\n",
       "      <td>0</td>\n",
       "      <td>0</td>\n",
       "      <td>405.701434</td>\n",
       "    </tr>\n",
       "    <tr>\n",
       "      <th>3</th>\n",
       "      <td>592</td>\n",
       "      <td>0</td>\n",
       "      <td>0</td>\n",
       "      <td>238</td>\n",
       "      <td>1269</td>\n",
       "      <td>1269</td>\n",
       "      <td>1</td>\n",
       "      <td>2401</td>\n",
       "      <td>1</td>\n",
       "      <td>0</td>\n",
       "      <td>...</td>\n",
       "      <td>3.278</td>\n",
       "      <td>0.0</td>\n",
       "      <td>293.212</td>\n",
       "      <td>1.639</td>\n",
       "      <td>0</td>\n",
       "      <td>0</td>\n",
       "      <td>0</td>\n",
       "      <td>0</td>\n",
       "      <td>0</td>\n",
       "      <td>8.188614</td>\n",
       "    </tr>\n",
       "    <tr>\n",
       "      <th>4</th>\n",
       "      <td>592</td>\n",
       "      <td>0</td>\n",
       "      <td>0</td>\n",
       "      <td>238</td>\n",
       "      <td>1269</td>\n",
       "      <td>1269</td>\n",
       "      <td>1</td>\n",
       "      <td>4802</td>\n",
       "      <td>1</td>\n",
       "      <td>0</td>\n",
       "      <td>...</td>\n",
       "      <td>3.292</td>\n",
       "      <td>0.0</td>\n",
       "      <td>293.205</td>\n",
       "      <td>1.646</td>\n",
       "      <td>0</td>\n",
       "      <td>0</td>\n",
       "      <td>0</td>\n",
       "      <td>0</td>\n",
       "      <td>0</td>\n",
       "      <td>16.377620</td>\n",
       "    </tr>\n",
       "  </tbody>\n",
       "</table>\n",
       "<p>5 rows × 49 columns</p>\n",
       "</div>"
      ],
      "text/plain": [
       "   cli_pl_header  cli_pl_body  cli_cont_len  srv_pl_header  srv_pl_body  \\\n",
       "0            667            0             0            336       143151   \n",
       "1            667            0             0            336       143151   \n",
       "2            667            0             0            336       143151   \n",
       "3            592            0             0            238         1269   \n",
       "4            592            0             0            238         1269   \n",
       "\n",
       "   srv_cont_len  aggregated_sessions   bytes  net_samples  tcp_frag  \\\n",
       "0        143151                    1  155494            1         0   \n",
       "1        143151                    1  310988            1         0   \n",
       "2        143151                    1  310988            1         0   \n",
       "3          1269                    1    2401            1         0   \n",
       "4          1269                    1    4802            1         0   \n",
       "\n",
       "      ...      application_latency  cli_tx_time  load_time  server_latency  \\\n",
       "0     ...                    2.195          0.0    766.522           1.097   \n",
       "1     ...                    2.988          0.0    766.496           1.494   \n",
       "2     ...                    2.209          0.0    766.544           1.104   \n",
       "3     ...                    3.278          0.0    293.212           1.639   \n",
       "4     ...                    3.292          0.0    293.205           1.646   \n",
       "\n",
       "   proxy  sp_healthscore  sp_req_duration  sp_is_lat  sp_error  throughput  \n",
       "0      0               0                0          0         0  202.856539  \n",
       "1      0               0                0          0         0  405.726840  \n",
       "2      0               0                0          0         0  405.701434  \n",
       "3      0               0                0          0         0    8.188614  \n",
       "4      0               0                0          0         0   16.377620  \n",
       "\n",
       "[5 rows x 49 columns]"
      ]
     },
     "execution_count": 7,
     "metadata": {},
     "output_type": "execute_result"
    }
   ],
   "source": [
    "dataX.head()"
   ]
  },
  {
   "cell_type": "code",
   "execution_count": 40,
   "metadata": {
    "collapsed": true
   },
   "outputs": [
    {
     "data": {
      "text/plain": [
       "array([[  1.17900000e+03,   0.00000000e+00,   0.00000000e+00,\n",
       "          4.25000000e+02,   4.59500000e+03,   4.59500000e+03,\n",
       "          1.00000000e+00,   1.32340000e+04,   1.00000000e+00,\n",
       "          0.00000000e+00,   1.40000000e+01,   5.00000000e+00,\n",
       "          0.00000000e+00,   6.00000000e+00,   0.00000000e+00,\n",
       "          1.00000000e+00,   0.00000000e+00,   4.00000000e+00,\n",
       "          0.00000000e+00,   0.00000000e+00,   0.00000000e+00,\n",
       "          2.73000000e+03,   1.17900000e+03,   1.00000000e+00,\n",
       "          8.00000000e+00,   0.00000000e+00,   4.00000000e+00,\n",
       "          0.00000000e+00,   0.00000000e+00,   0.00000000e+00,\n",
       "          0.00000000e+00,   0.00000000e+00,   1.05040000e+04,\n",
       "          5.02000000e+03,   2.00000000e+00,   6.55350000e+04,\n",
       "          1.74400000e+00,   8.38848000e+06,   6.20000000e-02,\n",
       "          2.26420000e+01,   0.00000000e+00,   2.45100000e+01,\n",
       "          1.13210000e+01,   0.00000000e+00,   0.00000000e+00,\n",
       "          0.00000000e+00,   0.00000000e+00,   0.00000000e+00,\n",
       "          5.39942880e+02],\n",
       "       [  1.17900000e+03,   0.00000000e+00,   0.00000000e+00,\n",
       "          4.25000000e+02,   4.59500000e+03,   4.59500000e+03,\n",
       "          1.00000000e+00,   6.60900000e+03,   1.00000000e+00,\n",
       "          0.00000000e+00,   7.00000000e+00,   0.00000000e+00,\n",
       "          4.00000000e+00,   3.00000000e+00,   0.00000000e+00,\n",
       "          0.00000000e+00,   0.00000000e+00,   2.00000000e+00,\n",
       "          0.00000000e+00,   0.00000000e+00,   0.00000000e+00,\n",
       "          1.35700000e+03,   1.17900000e+03,   1.00000000e+00,\n",
       "          4.00000000e+00,   4.00000000e+00,   0.00000000e+00,\n",
       "          0.00000000e+00,   0.00000000e+00,   0.00000000e+00,\n",
       "          0.00000000e+00,   0.00000000e+00,   5.25200000e+03,\n",
       "          5.02000000e+03,   2.00000000e+00,   6.55350000e+04,\n",
       "          1.72400000e+00,   8.38848000e+06,   2.70000000e-02,\n",
       "          2.26470000e+01,   0.00000000e+00,   2.44250000e+01,\n",
       "          1.23300000e+01,   0.00000000e+00,   0.00000000e+00,\n",
       "          0.00000000e+00,   0.00000000e+00,   0.00000000e+00,\n",
       "          2.70583419e+02],\n",
       "       [  1.10400000e+03,   0.00000000e+00,   0.00000000e+00,\n",
       "          5.48000000e+02,   4.59500000e+03,   4.59500000e+03,\n",
       "          1.00000000e+00,   6.72300000e+03,   1.00000000e+00,\n",
       "          0.00000000e+00,   8.00000000e+00,   0.00000000e+00,\n",
       "          0.00000000e+00,   3.00000000e+00,   0.00000000e+00,\n",
       "          0.00000000e+00,   0.00000000e+00,   2.00000000e+00,\n",
       "          2.00000000e+00,   0.00000000e+00,   0.00000000e+00,\n",
       "          1.29000000e+03,   1.10400000e+03,   1.00000000e+00,\n",
       "          5.00000000e+00,   0.00000000e+00,   0.00000000e+00,\n",
       "          0.00000000e+00,   0.00000000e+00,   0.00000000e+00,\n",
       "          0.00000000e+00,   1.00000000e+00,   5.43300000e+03,\n",
       "          5.14300000e+03,   4.00000000e+00,   4.14118400e+06,\n",
       "          1.56000000e+00,   6.55360000e+04,   1.88293000e+02,\n",
       "          2.32630000e+01,   0.00000000e+00,   4.01409000e+02,\n",
       "          1.16310000e+01,   1.00000000e+00,   0.00000000e+00,\n",
       "          0.00000000e+00,   0.00000000e+00,   0.00000000e+00,\n",
       "          1.67485034e+01],\n",
       "       [  1.17900000e+03,   0.00000000e+00,   0.00000000e+00,\n",
       "          4.25000000e+02,   4.59500000e+03,   4.59500000e+03,\n",
       "          1.00000000e+00,   1.32340000e+04,   1.00000000e+00,\n",
       "          0.00000000e+00,   1.40000000e+01,   5.00000000e+00,\n",
       "          0.00000000e+00,   6.00000000e+00,   0.00000000e+00,\n",
       "          1.00000000e+00,   0.00000000e+00,   4.00000000e+00,\n",
       "          0.00000000e+00,   0.00000000e+00,   0.00000000e+00,\n",
       "          2.73000000e+03,   1.17900000e+03,   1.00000000e+00,\n",
       "          8.00000000e+00,   0.00000000e+00,   4.00000000e+00,\n",
       "          0.00000000e+00,   0.00000000e+00,   0.00000000e+00,\n",
       "          0.00000000e+00,   0.00000000e+00,   1.05040000e+04,\n",
       "          5.02000000e+03,   2.00000000e+00,   6.55350000e+04,\n",
       "          1.95800000e+00,   8.38848000e+06,   1.66000000e-01,\n",
       "          2.17330000e+01,   0.00000000e+00,   2.40230000e+01,\n",
       "          1.08660000e+01,   0.00000000e+00,   0.00000000e+00,\n",
       "          0.00000000e+00,   0.00000000e+00,   0.00000000e+00,\n",
       "          5.50888732e+02],\n",
       "       [  2.05500000e+03,   0.00000000e+00,   0.00000000e+00,\n",
       "          3.26000000e+02,   7.32400000e+03,   0.00000000e+00,\n",
       "          1.00000000e+00,   1.08670000e+04,   1.00000000e+00,\n",
       "          0.00000000e+00,   1.90000000e+01,   0.00000000e+00,\n",
       "          0.00000000e+00,   9.00000000e+00,   0.00000000e+00,\n",
       "          0.00000000e+00,   0.00000000e+00,   7.00000000e+00,\n",
       "          0.00000000e+00,   0.00000000e+00,   1.00000000e+00,\n",
       "          2.61900000e+03,   2.05500000e+03,   2.00000000e+00,\n",
       "          1.00000000e+01,   0.00000000e+00,   0.00000000e+00,\n",
       "          0.00000000e+00,   3.00000000e+00,   0.00000000e+00,\n",
       "          0.00000000e+00,   5.00000000e+00,   8.24800000e+03,\n",
       "          7.65000000e+03,   3.00000000e+00,   1.55136000e+06,\n",
       "          9.75000000e-01,   1.93920000e+05,   2.40000000e-02,\n",
       "          7.37330000e+01,   9.00000000e-03,   7.47650000e+01,\n",
       "          6.04400000e+00,   0.00000000e+00,   0.00000000e+00,\n",
       "          0.00000000e+00,   0.00000000e+00,   0.00000000e+00,\n",
       "          1.45348759e+02]])"
      ]
     },
     "execution_count": 40,
     "metadata": {},
     "output_type": "execute_result"
    }
   ],
   "source": [
    "np_valid_x = np.array(validX)\n",
    "np_valid_x[:5]"
   ]
  },
  {
   "cell_type": "code",
   "execution_count": 41,
   "metadata": {
    "collapsed": true
   },
   "outputs": [],
   "source": [
    "np_train_x = np.array(dataX)\n",
    "np_train_y = np.array(dataY)\n",
    "np_valid_y = np.array(validY)"
   ]
  },
  {
   "cell_type": "code",
   "execution_count": 9,
   "metadata": {
    "collapsed": false
   },
   "outputs": [
    {
     "data": {
      "text/html": [
       "<div>\n",
       "<table border=\"1\" class=\"dataframe\">\n",
       "  <thead>\n",
       "    <tr style=\"text-align: right;\">\n",
       "      <th></th>\n",
       "      <th>cli_pl_header</th>\n",
       "      <th>cli_pl_body</th>\n",
       "      <th>cli_cont_len</th>\n",
       "      <th>srv_pl_header</th>\n",
       "      <th>srv_pl_body</th>\n",
       "      <th>srv_cont_len</th>\n",
       "      <th>aggregated_sessions</th>\n",
       "      <th>bytes</th>\n",
       "      <th>net_samples</th>\n",
       "      <th>tcp_frag</th>\n",
       "      <th>...</th>\n",
       "      <th>application_latency</th>\n",
       "      <th>cli_tx_time</th>\n",
       "      <th>load_time</th>\n",
       "      <th>server_latency</th>\n",
       "      <th>proxy</th>\n",
       "      <th>sp_healthscore</th>\n",
       "      <th>sp_req_duration</th>\n",
       "      <th>sp_is_lat</th>\n",
       "      <th>sp_error</th>\n",
       "      <th>throughput</th>\n",
       "    </tr>\n",
       "  </thead>\n",
       "  <tbody>\n",
       "    <tr>\n",
       "      <th>0</th>\n",
       "      <td>1179</td>\n",
       "      <td>0</td>\n",
       "      <td>0</td>\n",
       "      <td>425</td>\n",
       "      <td>4595</td>\n",
       "      <td>4595</td>\n",
       "      <td>1</td>\n",
       "      <td>13234</td>\n",
       "      <td>1</td>\n",
       "      <td>0</td>\n",
       "      <td>...</td>\n",
       "      <td>22.642</td>\n",
       "      <td>0.000</td>\n",
       "      <td>24.510</td>\n",
       "      <td>11.321</td>\n",
       "      <td>0</td>\n",
       "      <td>0</td>\n",
       "      <td>0</td>\n",
       "      <td>0</td>\n",
       "      <td>0</td>\n",
       "      <td>539.942880</td>\n",
       "    </tr>\n",
       "    <tr>\n",
       "      <th>1</th>\n",
       "      <td>1179</td>\n",
       "      <td>0</td>\n",
       "      <td>0</td>\n",
       "      <td>425</td>\n",
       "      <td>4595</td>\n",
       "      <td>4595</td>\n",
       "      <td>1</td>\n",
       "      <td>6609</td>\n",
       "      <td>1</td>\n",
       "      <td>0</td>\n",
       "      <td>...</td>\n",
       "      <td>22.647</td>\n",
       "      <td>0.000</td>\n",
       "      <td>24.425</td>\n",
       "      <td>12.330</td>\n",
       "      <td>0</td>\n",
       "      <td>0</td>\n",
       "      <td>0</td>\n",
       "      <td>0</td>\n",
       "      <td>0</td>\n",
       "      <td>270.583419</td>\n",
       "    </tr>\n",
       "    <tr>\n",
       "      <th>2</th>\n",
       "      <td>1104</td>\n",
       "      <td>0</td>\n",
       "      <td>0</td>\n",
       "      <td>548</td>\n",
       "      <td>4595</td>\n",
       "      <td>4595</td>\n",
       "      <td>1</td>\n",
       "      <td>6723</td>\n",
       "      <td>1</td>\n",
       "      <td>0</td>\n",
       "      <td>...</td>\n",
       "      <td>23.263</td>\n",
       "      <td>0.000</td>\n",
       "      <td>401.409</td>\n",
       "      <td>11.631</td>\n",
       "      <td>1</td>\n",
       "      <td>0</td>\n",
       "      <td>0</td>\n",
       "      <td>0</td>\n",
       "      <td>0</td>\n",
       "      <td>16.748503</td>\n",
       "    </tr>\n",
       "    <tr>\n",
       "      <th>3</th>\n",
       "      <td>1179</td>\n",
       "      <td>0</td>\n",
       "      <td>0</td>\n",
       "      <td>425</td>\n",
       "      <td>4595</td>\n",
       "      <td>4595</td>\n",
       "      <td>1</td>\n",
       "      <td>13234</td>\n",
       "      <td>1</td>\n",
       "      <td>0</td>\n",
       "      <td>...</td>\n",
       "      <td>21.733</td>\n",
       "      <td>0.000</td>\n",
       "      <td>24.023</td>\n",
       "      <td>10.866</td>\n",
       "      <td>0</td>\n",
       "      <td>0</td>\n",
       "      <td>0</td>\n",
       "      <td>0</td>\n",
       "      <td>0</td>\n",
       "      <td>550.888732</td>\n",
       "    </tr>\n",
       "    <tr>\n",
       "      <th>4</th>\n",
       "      <td>2055</td>\n",
       "      <td>0</td>\n",
       "      <td>0</td>\n",
       "      <td>326</td>\n",
       "      <td>7324</td>\n",
       "      <td>0</td>\n",
       "      <td>1</td>\n",
       "      <td>10867</td>\n",
       "      <td>1</td>\n",
       "      <td>0</td>\n",
       "      <td>...</td>\n",
       "      <td>73.733</td>\n",
       "      <td>0.009</td>\n",
       "      <td>74.765</td>\n",
       "      <td>6.044</td>\n",
       "      <td>0</td>\n",
       "      <td>0</td>\n",
       "      <td>0</td>\n",
       "      <td>0</td>\n",
       "      <td>0</td>\n",
       "      <td>145.348759</td>\n",
       "    </tr>\n",
       "  </tbody>\n",
       "</table>\n",
       "<p>5 rows × 49 columns</p>\n",
       "</div>"
      ],
      "text/plain": [
       "   cli_pl_header  cli_pl_body  cli_cont_len  srv_pl_header  srv_pl_body  \\\n",
       "0           1179            0             0            425         4595   \n",
       "1           1179            0             0            425         4595   \n",
       "2           1104            0             0            548         4595   \n",
       "3           1179            0             0            425         4595   \n",
       "4           2055            0             0            326         7324   \n",
       "\n",
       "   srv_cont_len  aggregated_sessions  bytes  net_samples  tcp_frag  \\\n",
       "0          4595                    1  13234            1         0   \n",
       "1          4595                    1   6609            1         0   \n",
       "2          4595                    1   6723            1         0   \n",
       "3          4595                    1  13234            1         0   \n",
       "4             0                    1  10867            1         0   \n",
       "\n",
       "      ...      application_latency  cli_tx_time  load_time  server_latency  \\\n",
       "0     ...                   22.642        0.000     24.510          11.321   \n",
       "1     ...                   22.647        0.000     24.425          12.330   \n",
       "2     ...                   23.263        0.000    401.409          11.631   \n",
       "3     ...                   21.733        0.000     24.023          10.866   \n",
       "4     ...                   73.733        0.009     74.765           6.044   \n",
       "\n",
       "   proxy  sp_healthscore  sp_req_duration  sp_is_lat  sp_error  throughput  \n",
       "0      0               0                0          0         0  539.942880  \n",
       "1      0               0                0          0         0  270.583419  \n",
       "2      1               0                0          0         0   16.748503  \n",
       "3      0               0                0          0         0  550.888732  \n",
       "4      0               0                0          0         0  145.348759  \n",
       "\n",
       "[5 rows x 49 columns]"
      ]
     },
     "execution_count": 9,
     "metadata": {},
     "output_type": "execute_result"
    }
   ],
   "source": [
    "validX.head()"
   ]
  },
  {
   "cell_type": "code",
   "execution_count": 15,
   "metadata": {
    "collapsed": false
   },
   "outputs": [
    {
     "data": {
      "text/html": [
       "<div>\n",
       "<table border=\"1\" class=\"dataframe\">\n",
       "  <thead>\n",
       "    <tr style=\"text-align: right;\">\n",
       "      <th></th>\n",
       "      <th>0</th>\n",
       "    </tr>\n",
       "  </thead>\n",
       "  <tbody>\n",
       "    <tr>\n",
       "      <th>0</th>\n",
       "      <td>8</td>\n",
       "    </tr>\n",
       "    <tr>\n",
       "      <th>1</th>\n",
       "      <td>8</td>\n",
       "    </tr>\n",
       "    <tr>\n",
       "      <th>2</th>\n",
       "      <td>8</td>\n",
       "    </tr>\n",
       "    <tr>\n",
       "      <th>3</th>\n",
       "      <td>5</td>\n",
       "    </tr>\n",
       "    <tr>\n",
       "      <th>4</th>\n",
       "      <td>5</td>\n",
       "    </tr>\n",
       "  </tbody>\n",
       "</table>\n",
       "</div>"
      ],
      "text/plain": [
       "   0\n",
       "0  8\n",
       "1  8\n",
       "2  8\n",
       "3  5\n",
       "4  5"
      ]
     },
     "execution_count": 15,
     "metadata": {},
     "output_type": "execute_result"
    }
   ],
   "source": [
    "dataY.head()"
   ]
  },
  {
   "cell_type": "code",
   "execution_count": 18,
   "metadata": {
    "collapsed": false
   },
   "outputs": [
    {
     "data": {
      "text/html": [
       "<div>\n",
       "<table border=\"1\" class=\"dataframe\">\n",
       "  <thead>\n",
       "    <tr style=\"text-align: right;\">\n",
       "      <th></th>\n",
       "      <th>0</th>\n",
       "    </tr>\n",
       "  </thead>\n",
       "  <tbody>\n",
       "    <tr>\n",
       "      <th>count</th>\n",
       "      <td>761179.000000</td>\n",
       "    </tr>\n",
       "    <tr>\n",
       "      <th>mean</th>\n",
       "      <td>2.271618</td>\n",
       "    </tr>\n",
       "    <tr>\n",
       "      <th>std</th>\n",
       "      <td>5.751112</td>\n",
       "    </tr>\n",
       "    <tr>\n",
       "      <th>min</th>\n",
       "      <td>0.000000</td>\n",
       "    </tr>\n",
       "    <tr>\n",
       "      <th>25%</th>\n",
       "      <td>0.000000</td>\n",
       "    </tr>\n",
       "    <tr>\n",
       "      <th>50%</th>\n",
       "      <td>0.000000</td>\n",
       "    </tr>\n",
       "    <tr>\n",
       "      <th>75%</th>\n",
       "      <td>0.000000</td>\n",
       "    </tr>\n",
       "    <tr>\n",
       "      <th>max</th>\n",
       "      <td>42.000000</td>\n",
       "    </tr>\n",
       "  </tbody>\n",
       "</table>\n",
       "</div>"
      ],
      "text/plain": [
       "                   0\n",
       "count  761179.000000\n",
       "mean        2.271618\n",
       "std         5.751112\n",
       "min         0.000000\n",
       "25%         0.000000\n",
       "50%         0.000000\n",
       "75%         0.000000\n",
       "max        42.000000"
      ]
     },
     "execution_count": 18,
     "metadata": {},
     "output_type": "execute_result"
    }
   ],
   "source": [
    "validY.describe()"
   ]
  },
  {
   "cell_type": "code",
   "execution_count": 70,
   "metadata": {
    "collapsed": true
   },
   "outputs": [],
   "source": [
    "def get_batches(_X, _Y, _batch_size):\n",
    "    for i in range(0, len(_X), _batch_size):\n",
    "        y_one_hot = np.zeros(_batch_size,num_classes)\n",
    "        y_one_hot[np.arange(_batch_size),_Y[i:i+_batch_size]] = 1\n",
    "        yield (_X[i:i+_batch_size], y_one_hot)"
   ]
  },
  {
   "cell_type": "code",
   "execution_count": 71,
   "metadata": {
    "collapsed": true
   },
   "outputs": [],
   "source": [
    "batch_gen = get_batches(np_train_x,np_train_y,100)"
   ]
  },
  {
   "cell_type": "code",
   "execution_count": 72,
   "metadata": {
    "collapsed": false
   },
   "outputs": [
    {
     "ename": "IndexError",
     "evalue": "too many indices for array",
     "output_type": "error",
     "traceback": [
      "\u001b[0;31m---------------------------------------------------------------------------\u001b[0m",
      "\u001b[0;31mIndexError\u001b[0m                                Traceback (most recent call last)",
      "\u001b[0;32m<ipython-input-72-c982c9c071d5>\u001b[0m in \u001b[0;36m<module>\u001b[0;34m()\u001b[0m\n\u001b[0;32m----> 1\u001b[0;31m \u001b[0mnext\u001b[0m\u001b[0;34m(\u001b[0m\u001b[0mbatch_gen\u001b[0m\u001b[0;34m)\u001b[0m\u001b[0;34m[\u001b[0m\u001b[0;36m0\u001b[0m\u001b[0;34m]\u001b[0m\u001b[0;34m\u001b[0m\u001b[0m\n\u001b[0m",
      "\u001b[0;32m<ipython-input-70-9572361b981e>\u001b[0m in \u001b[0;36mget_batches\u001b[0;34m(_X, _Y, _batch_size)\u001b[0m\n\u001b[1;32m      2\u001b[0m     \u001b[0;32mfor\u001b[0m \u001b[0mi\u001b[0m \u001b[0;32min\u001b[0m \u001b[0mrange\u001b[0m\u001b[0;34m(\u001b[0m\u001b[0;36m0\u001b[0m\u001b[0;34m,\u001b[0m \u001b[0mlen\u001b[0m\u001b[0;34m(\u001b[0m\u001b[0m_X\u001b[0m\u001b[0;34m)\u001b[0m\u001b[0;34m,\u001b[0m \u001b[0m_batch_size\u001b[0m\u001b[0;34m)\u001b[0m\u001b[0;34m:\u001b[0m\u001b[0;34m\u001b[0m\u001b[0m\n\u001b[1;32m      3\u001b[0m         \u001b[0my_one_hot\u001b[0m \u001b[0;34m=\u001b[0m \u001b[0mnp\u001b[0m\u001b[0;34m.\u001b[0m\u001b[0mzeros\u001b[0m\u001b[0;34m(\u001b[0m\u001b[0m_batch_size\u001b[0m\u001b[0;34m,\u001b[0m\u001b[0mnum_classes\u001b[0m\u001b[0;34m)\u001b[0m\u001b[0;34m\u001b[0m\u001b[0m\n\u001b[0;32m----> 4\u001b[0;31m         \u001b[0my_one_hot\u001b[0m\u001b[0;34m[\u001b[0m\u001b[0mnp\u001b[0m\u001b[0;34m.\u001b[0m\u001b[0marange\u001b[0m\u001b[0;34m(\u001b[0m\u001b[0m_batch_size\u001b[0m\u001b[0;34m)\u001b[0m\u001b[0;34m,\u001b[0m\u001b[0m_Y\u001b[0m\u001b[0;34m[\u001b[0m\u001b[0mi\u001b[0m\u001b[0;34m:\u001b[0m\u001b[0mi\u001b[0m\u001b[0;34m+\u001b[0m\u001b[0m_batch_size\u001b[0m\u001b[0;34m]\u001b[0m\u001b[0;34m]\u001b[0m \u001b[0;34m=\u001b[0m \u001b[0;36m1\u001b[0m\u001b[0;34m\u001b[0m\u001b[0m\n\u001b[0m\u001b[1;32m      5\u001b[0m         \u001b[0;32myield\u001b[0m \u001b[0;34m(\u001b[0m\u001b[0m_X\u001b[0m\u001b[0;34m[\u001b[0m\u001b[0mi\u001b[0m\u001b[0;34m:\u001b[0m\u001b[0mi\u001b[0m\u001b[0;34m+\u001b[0m\u001b[0m_batch_size\u001b[0m\u001b[0;34m]\u001b[0m\u001b[0;34m,\u001b[0m \u001b[0my_one_hot\u001b[0m\u001b[0;34m)\u001b[0m\u001b[0;34m\u001b[0m\u001b[0m\n",
      "\u001b[0;31mIndexError\u001b[0m: too many indices for array"
     ]
    }
   ],
   "source": [
    "next(batch_gen)[0]"
   ]
  },
  {
   "cell_type": "markdown",
   "metadata": {},
   "source": [
    "# Build an MLP\n",
    "_______________________"
   ]
  },
  {
   "cell_type": "markdown",
   "metadata": {},
   "source": [
    "### params"
   ]
  },
  {
   "cell_type": "code",
   "execution_count": 16,
   "metadata": {
    "collapsed": true
   },
   "outputs": [],
   "source": [
    "lr = 0.001\n",
    "train_steps = 15\n",
    "batch_size = 100\n",
    "display_step = 1"
   ]
  },
  {
   "cell_type": "markdown",
   "metadata": {},
   "source": [
    "### Network params"
   ]
  },
  {
   "cell_type": "code",
   "execution_count": 31,
   "metadata": {
    "collapsed": true
   },
   "outputs": [],
   "source": [
    "input_dim = dataX.shape[1]\n",
    "num_classes = dataY.max()[0]\n",
    "num_hidden_1 = 2*input_dim\n",
    "num_hidden_2 = input_dim // 2"
   ]
  },
  {
   "cell_type": "markdown",
   "metadata": {},
   "source": [
    "### Graph Input"
   ]
  },
  {
   "cell_type": "code",
   "execution_count": 32,
   "metadata": {
    "collapsed": true
   },
   "outputs": [],
   "source": [
    "x = tf.placeholder(tf.float32, shape= [None,input_dim], name='X')\n",
    "y = tf.placeholder(tf.float32, shape= [None], name = 'Y')\n",
    "y1_hot = tf.one_hot()"
   ]
  },
  {
   "cell_type": "markdown",
   "metadata": {},
   "source": [
    "### Weights and Biases"
   ]
  },
  {
   "cell_type": "code",
   "execution_count": 33,
   "metadata": {
    "collapsed": true
   },
   "outputs": [],
   "source": [
    "weights = {\n",
    "    'h1' : tf.Variable(tf.random_normal(shape=[input_dim, num_hidden_1])),\n",
    "    'h2' : tf.Variable(tf.random_normal(shape=[num_hidden_1, num_hidden_2])),\n",
    "    'out': tf.Variable(tf.random_normal(shape=[num_hidden_2, num_classes]))\n",
    "}\n",
    "biases = {\n",
    "    'h1' : tf.Variable(tf.random_normal(shape=num_hidden_1)),\n",
    "    'h2' : tf.Variable(tf.random_normal(shape=num_hidden_2)),\n",
    "    'out': tf.Variable(tf.random_normal(shape=num_classes))\n",
    "}"
   ]
  },
  {
   "cell_type": "markdown",
   "metadata": {},
   "source": [
    "### Create model"
   ]
  },
  {
   "cell_type": "code",
   "execution_count": 36,
   "metadata": {
    "collapsed": true
   },
   "outputs": [],
   "source": [
    "def mlp_model(_X, weights, biases):\n",
    "    layer_1 = tf.matmul(_X, weights['h1']) + biases['h1']\n",
    "    layer_2 = tf.matmul(layer_1, weights['h2']) + biases['h2']\n",
    "    return tf.matmul(layer_2, weights['out']) + biases['out']"
   ]
  },
  {
   "cell_type": "markdown",
   "metadata": {},
   "source": [
    "## Training Operations"
   ]
  },
  {
   "cell_type": "code",
   "execution_count": 37,
   "metadata": {
    "collapsed": false
   },
   "outputs": [],
   "source": [
    "pred = mlp_model(x,weights,biases)\n",
    "# softmax loss\n",
    "loss = tf.reduce_mean(tf.nn.softmax_cross_entropy_with_logits(pred,y))\n",
    "# training op\n",
    "train_op = tf.train.AdamOptimizer(learning_rate=lr).minimize(loss)"
   ]
  },
  {
   "cell_type": "markdown",
   "metadata": {},
   "source": [
    "## Training"
   ]
  },
  {
   "cell_type": "code",
   "execution_count": null,
   "metadata": {
    "collapsed": true
   },
   "outputs": [],
   "source": [
    "# initialize all variables\n",
    "init_op = tf.initialize_all_variables()\n",
    "\n",
    "with tf.Session() as sess:\n",
    "    sess.run(init_op)\n",
    "    # training begins here\n",
    "    for step in train_steps:\n",
    "        total_batches = len(np_train_x) // batch_size\n",
    "        \n",
    "        for i in range(total_batches):\n",
    "            batchX, batchY = next(batch_gen)\n",
    "            sess.run(train_op, feed_dict = {\n",
    "                    x : batchX,\n",
    "                    y : batchY\n",
    "                }\n",
    "        "
   ]
  },
  {
   "cell_type": "code",
   "execution_count": 66,
   "metadata": {
    "collapsed": false
   },
   "outputs": [
    {
     "data": {
      "text/plain": [
       "<bound method Tensor.get_shape of <tf.Tensor 'Y:0' shape=(?, 42) dtype=float32>>"
      ]
     },
     "execution_count": 66,
     "metadata": {},
     "output_type": "execute_result"
    }
   ],
   "source": [
    "y.get_shape"
   ]
  },
  {
   "cell_type": "code",
   "execution_count": 73,
   "metadata": {
    "collapsed": false
   },
   "outputs": [],
   "source": [
    "_X = np_train_x[:10]\n",
    "_Y = np_train_y[:10]"
   ]
  },
  {
   "cell_type": "code",
   "execution_count": 74,
   "metadata": {
    "collapsed": false
   },
   "outputs": [
    {
     "data": {
      "text/plain": [
       "array([[8],\n",
       "       [8],\n",
       "       [8],\n",
       "       [5],\n",
       "       [5],\n",
       "       [5],\n",
       "       [5],\n",
       "       [5],\n",
       "       [5],\n",
       "       [5]])"
      ]
     },
     "execution_count": 74,
     "metadata": {},
     "output_type": "execute_result"
    }
   ],
   "source": [
    "y_one_hot = "
   ]
  },
  {
   "cell_type": "code",
   "execution_count": 77,
   "metadata": {
    "collapsed": false
   },
   "outputs": [],
   "source": [
    "one_hot = tf.one_hot(indices=[1], depth=num_classes)"
   ]
  },
  {
   "cell_type": "code",
   "execution_count": null,
   "metadata": {
    "collapsed": true
   },
   "outputs": [],
   "source": []
  }
 ],
 "metadata": {
  "kernelspec": {
   "display_name": "Python 3",
   "language": "python",
   "name": "python3"
  },
  "language_info": {
   "codemirror_mode": {
    "name": "ipython",
    "version": 3
   },
   "file_extension": ".py",
   "mimetype": "text/x-python",
   "name": "python",
   "nbconvert_exporter": "python",
   "pygments_lexer": "ipython3",
   "version": "3.5.1+"
  }
 },
 "nbformat": 4,
 "nbformat_minor": 0
}
